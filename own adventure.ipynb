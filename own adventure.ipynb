{
 "cells": [
  {
   "cell_type": "code",
   "execution_count": 28,
   "id": "81a6d296-7f28-4951-84e6-4aa955511e72",
   "metadata": {},
   "outputs": [
    {
     "name": "stdin",
     "output_type": "stream",
     "text": [
      "Type your name: ramya\n"
     ]
    },
    {
     "name": "stdout",
     "output_type": "stream",
     "text": [
      "welcome ramya to this adventure!\n"
     ]
    },
    {
     "name": "stdin",
     "output_type": "stream",
     "text": [
      "you are on a dirt road,it has come to an end and you can go left or right. which way would you like to go  right\n",
      "You come to a bridge,it looks wobbly,do you want to cross it or head back (cross/back)? cross\n",
      "You cross the bridge and meet a srtanger.Do you talk to them(yes/nno)? yes\n"
     ]
    },
    {
     "name": "stdout",
     "output_type": "stream",
     "text": [
      "You talk to the stranger and they give you gold.You WIN!\n"
     ]
    }
   ],
   "source": [
    "name = input(\"Type your name:\")\n",
    "print(\"welcome\",name, \"to this adventure!\")\n",
    "\n",
    "answer = input(\n",
    "    \"you are on a dirt road,it has come to an end and you can go left or right. which way would you like to go \" ).lower()\n",
    "\n",
    "if answer == \"left\":\n",
    "    answer = input(\"You come to a river, you can walk around it or swim accross?type walk to walk around and swim to swim accross: \")\n",
    "    \n",
    "    if answer == \"swim\":\n",
    "        print(\"You swam acrross and were eaten by a alligator.\")\n",
    "\n",
    "    elif answer == \"walk\":\n",
    "        print(\"You walked for many miles,ran out of water and you lost the game.\")\n",
    "        \n",
    "    else:\n",
    "        print(\"Not a valid option. You lose. \")\n",
    "        \n",
    "        \n",
    "elif answer == \"right\":\n",
    "    answer = input(\"You come to a bridge,it looks wobbly,do you want to cross it or head back (cross/back)?\")\n",
    "    \n",
    "\n",
    "    if answer == \"back\":\n",
    "        print(\"You go back and lose.\")\n",
    "\n",
    "    elif answer == \"cross\":\n",
    "        answer = input(\"You cross the bridge and meet a srtanger.Do you talk to them(yes/no)?\")\n",
    "        \n",
    "        if answer == \"yes\":\n",
    "            print(\"You talk to the stranger and they give you gold.You WIN!\") \n",
    "\n",
    "        elif answer == \"no\":\n",
    "          \n",
    "            print(\"You ignore the strenger and they and they are offended and yo lose.\")\n",
    "        else:\n",
    "            print(\"Not a valid option. You lose.\")\n",
    "        \n",
    "    else:\n",
    "          print(\"Not a valid option. You lose. \")\n",
    "\n",
    "else:\n",
    "      print(\"Not a valid option. You lose. \")\n",
    "\n",
    "    "
   ]
  },
  {
   "cell_type": "code",
   "execution_count": null,
   "id": "a582efab-59f6-4749-ae0c-794e29e0f77b",
   "metadata": {},
   "outputs": [],
   "source": []
  }
 ],
 "metadata": {
  "kernelspec": {
   "display_name": "Python 3 (ipykernel)",
   "language": "python",
   "name": "python3"
  },
  "language_info": {
   "codemirror_mode": {
    "name": "ipython",
    "version": 3
   },
   "file_extension": ".py",
   "mimetype": "text/x-python",
   "name": "python",
   "nbconvert_exporter": "python",
   "pygments_lexer": "ipython3",
   "version": "3.13.0"
  }
 },
 "nbformat": 4,
 "nbformat_minor": 5
}
